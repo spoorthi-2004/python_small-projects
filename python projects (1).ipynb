{
 "cells": [
  {
   "cell_type": "code",
   "execution_count": 8,
   "id": "f42ee6ad-3078-4f24-8295-5f61b748fcfc",
   "metadata": {
    "tags": []
   },
   "outputs": [
    {
     "name": "stdin",
     "output_type": "stream",
     "text": [
      "Enter Lower bound:-  1\n",
      "Enter Upper bound:-  1000\n"
     ]
    },
    {
     "name": "stdout",
     "output_type": "stream",
     "text": [
      "numberofguess: 10\n"
     ]
    },
    {
     "name": "stdin",
     "output_type": "stream",
     "text": [
      "Guess a number:-  500\n"
     ]
    },
    {
     "name": "stdout",
     "output_type": "stream",
     "text": [
      "You Guessed too high!\n"
     ]
    },
    {
     "name": "stdin",
     "output_type": "stream",
     "text": [
      "Guess a number:-  250\n"
     ]
    },
    {
     "name": "stdout",
     "output_type": "stream",
     "text": [
      "You Guessed too high!\n"
     ]
    },
    {
     "name": "stdin",
     "output_type": "stream",
     "text": [
      "Guess a number:-  100\n"
     ]
    },
    {
     "name": "stdout",
     "output_type": "stream",
     "text": [
      "You Guessed too high!\n"
     ]
    },
    {
     "name": "stdin",
     "output_type": "stream",
     "text": [
      "Guess a number:-  50\n"
     ]
    },
    {
     "name": "stdout",
     "output_type": "stream",
     "text": [
      "You guessed too small!\n"
     ]
    },
    {
     "name": "stdin",
     "output_type": "stream",
     "text": [
      "Guess a number:-  75\n"
     ]
    },
    {
     "name": "stdout",
     "output_type": "stream",
     "text": [
      "You guessed too small!\n"
     ]
    },
    {
     "name": "stdin",
     "output_type": "stream",
     "text": [
      "Guess a number:-  90\n"
     ]
    },
    {
     "name": "stdout",
     "output_type": "stream",
     "text": [
      "You guessed too small!\n"
     ]
    },
    {
     "name": "stdin",
     "output_type": "stream",
     "text": [
      "Guess a number:-  99\n"
     ]
    },
    {
     "name": "stdout",
     "output_type": "stream",
     "text": [
      "You Guessed too high!\n"
     ]
    },
    {
     "name": "stdin",
     "output_type": "stream",
     "text": [
      "Guess a number:-  95\n"
     ]
    },
    {
     "name": "stdout",
     "output_type": "stream",
     "text": [
      "You Guessed too high!\n"
     ]
    },
    {
     "name": "stdin",
     "output_type": "stream",
     "text": [
      "Guess a number:-  93\n"
     ]
    },
    {
     "name": "stdout",
     "output_type": "stream",
     "text": [
      "Congratulations you did it in  9  try\n"
     ]
    }
   ],
   "source": [
    "import random\n",
    "import math\n",
    "# Taking Inputs\n",
    "lower = int(input(\"Enter Lower bound:- \"))\n",
    " \n",
    "# Taking Inputs\n",
    "upper = int(input(\"Enter Upper bound:- \"))\n",
    "mid=0\n",
    "low=lower\n",
    "high=upper\n",
    "# generating random number between\n",
    "# the lower and upper\n",
    "x = random.randint(lower, upper)\n",
    "print(\"numberofguess:\",round(math.log(upper-lower+1,2)))\n",
    " \n",
    "# Initializing the number of guesses.\n",
    "count = 0\n",
    " \n",
    "# for calculation of minimum number of\n",
    "# guesses depends upon range\n",
    "while count < math.log(upper - lower + 1, 2):\n",
    "    count += 1\n",
    " \n",
    "    # taking guessing number as input\n",
    "    guess = int(input(\"Guess a number:- \"))\n",
    " \n",
    "    # Condition testing\n",
    "    if x == guess:\n",
    "        print(\"Congratulations you did it in \",\n",
    "              count, \" try\")\n",
    "        # Once guessed, loop will break\n",
    "        break\n",
    "    elif x > guess:\n",
    "        print(\"You guessed too small!\")\n",
    "    elif x < guess:\n",
    "        print(\"You Guessed too high!\")\n",
    " \n",
    "# If Guessing is more than required guesses,\n",
    "# shows this output.\n",
    "if count >math.log(upper - lower + 1, 2):\n",
    "    print(\"\\nThe number is %d\" % x)\n",
    "    print(\"\\tBetter Luck Next time!\")"
   ]
  },
  {
   "cell_type": "code",
   "execution_count": 6,
   "id": "1437cb4a-61a3-4358-9d33-0016e2afef00",
   "metadata": {
    "tags": []
   },
   "outputs": [
    {
     "name": "stdin",
     "output_type": "stream",
     "text": [
      "Player 1 name :  9\n",
      "Player 2 name :  9\n"
     ]
    },
    {
     "name": "stdout",
     "output_type": "stream",
     "text": [
      "Relationship status : Friends\n"
     ]
    }
   ],
   "source": [
    "def remove_match_char(list1, list2):\n",
    " \n",
    "    for i in range(len(list1)):\n",
    "        for j in range(len(list2)):\n",
    " \n",
    "            # if common character is found\n",
    "            # then remove that character\n",
    "            # and return list of concatenated\n",
    "            # list with True Flag\n",
    "            if list1[i] == list2[j]:\n",
    "                c = list1[i]\n",
    " \n",
    "                # remove character from the list\n",
    "                list1.remove(c)\n",
    "                list2.remove(c)\n",
    " \n",
    "                # concatenation of two list elements with *\n",
    "                # * is act as border mark here\n",
    "                list3 = list1 + [\"*\"] + list2\n",
    " \n",
    "                # return the concatenated list with True flag\n",
    "                return [list3, True]\n",
    " \n",
    "    # no common characters is found\n",
    "    # return the concatenated list with False flag\n",
    "    list3 = list1 + [\"*\"] + list2\n",
    "    return [list3, False]\n",
    " \n",
    " \n",
    "# Driver code\n",
    "if __name__ == \"__main__\":\n",
    " \n",
    "    # take first name\n",
    "    p1 = input(\"Player 1 name : \")\n",
    " \n",
    "    # converted all letters into lower case\n",
    "    p1 = p1.lower()\n",
    " \n",
    "    # replace any space with empty string\n",
    "    p1.replace(\" \", \"\")\n",
    " \n",
    "    # make a list of letters or characters\n",
    "    p1_list = list(p1)\n",
    " \n",
    "    # take 2nd name\n",
    "    p2 = input(\"Player 2 name : \")\n",
    "    p2 = p2.lower()\n",
    "    p2.replace(\" \", \"\")\n",
    "    p2_list = list(p2)\n",
    " \n",
    "    # taking a flag as True initially\n",
    "    proceed = True\n",
    " \n",
    "    # keep calling remove_match_char function\n",
    "    # until common characters is found or\n",
    "    # keep looping until proceed flag is True\n",
    "    while proceed:\n",
    " \n",
    "        # function calling and store return value\n",
    "        ret_list = remove_match_char(p1_list, p2_list)\n",
    " \n",
    "        # take out concatenated list from return list\n",
    "        con_list = ret_list[0]\n",
    " \n",
    "        # take out flag value from return list\n",
    "        proceed = ret_list[1]\n",
    " \n",
    "        # find the index of \"*\" / border mark\n",
    "        star_index = con_list.index(\"*\")\n",
    " \n",
    "        # list slicing perform\n",
    " \n",
    "        # all characters before * store in p1_list\n",
    "        p1_list = con_list[: star_index]\n",
    " \n",
    "        # all characters after * store in p2_list\n",
    "        p2_list = con_list[star_index + 1:]\n",
    " \n",
    "    # count total remaining characters\n",
    "    count = len(p1_list) + len(p2_list)\n",
    " \n",
    "    # list of FLAMES acronym\n",
    "    result = [\"Friends\", \"Love\", \"Affection\", \"Marriage\", \"Enemy\", \"Siblings\"]\n",
    " \n",
    "    # keep looping until only one item\n",
    "    # is not remaining in the result list\n",
    "    while len(result) > 1:\n",
    " \n",
    "        # store that index value from\n",
    "        # where we have to perform slicing.\n",
    "        split_index = (count % len(result) - 1)\n",
    " \n",
    "        # this steps is done for performing\n",
    "        # anticlock-wise circular fashion counting.\n",
    "        if split_index >= 0:\n",
    " \n",
    "            # list slicing\n",
    "            right = result[split_index + 1:]\n",
    "            left = result[: split_index]\n",
    " \n",
    "            # list concatenation\n",
    "            result = right + left\n",
    " \n",
    "        else:\n",
    "            result = result[: len(result) - 1]\n",
    " \n",
    "    # print final result\n",
    "    print(\"Relationship status :\", result[0])"
   ]
  },
  {
   "cell_type": "code",
   "execution_count": 9,
   "id": "6e62940c-e5ec-4a25-8740-e2cffdd0803a",
   "metadata": {},
   "outputs": [
    {
     "name": "stdout",
     "output_type": "stream",
     "text": [
      "pygame 2.5.2 (SDL 2.28.3, Python 3.11.5)\n",
      "Hello from the pygame community. https://www.pygame.org/contribute.html\n",
      "Press 'p' to pause\n",
      "Press 'r' to resume\n",
      "Press 'v' set volume\n",
      "Press 'e' to exit\n"
     ]
    },
    {
     "name": "stdin",
     "output_type": "stream",
     "text": [
      "['p','r','v','e']>>> r\n"
     ]
    },
    {
     "name": "stdout",
     "output_type": "stream",
     "text": [
      "Press 'p' to pause\n",
      "Press 'r' to resume\n",
      "Press 'v' set volume\n",
      "Press 'e' to exit\n"
     ]
    },
    {
     "name": "stdin",
     "output_type": "stream",
     "text": [
      "['p','r','v','e']>>> v\n",
      "Enter volume(0 to 1):  0.2\n"
     ]
    },
    {
     "name": "stdout",
     "output_type": "stream",
     "text": [
      "Press 'p' to pause\n",
      "Press 'r' to resume\n",
      "Press 'v' set volume\n",
      "Press 'e' to exit\n"
     ]
    },
    {
     "name": "stdin",
     "output_type": "stream",
     "text": [
      "['p','r','v','e']>>> p\n"
     ]
    },
    {
     "name": "stdout",
     "output_type": "stream",
     "text": [
      "Press 'p' to pause\n",
      "Press 'r' to resume\n",
      "Press 'v' set volume\n",
      "Press 'e' to exit\n"
     ]
    },
    {
     "name": "stdin",
     "output_type": "stream",
     "text": [
      "['p','r','v','e']>>> r\n"
     ]
    },
    {
     "name": "stdout",
     "output_type": "stream",
     "text": [
      "Press 'p' to pause\n",
      "Press 'r' to resume\n",
      "Press 'v' set volume\n",
      "Press 'e' to exit\n"
     ]
    },
    {
     "name": "stdin",
     "output_type": "stream",
     "text": [
      "['p','r','v','e']>>> e\n"
     ]
    }
   ],
   "source": [
    "from pygame import mixer\n",
    "mixer.init()\n",
    "# --------------------------Path of your music\n",
    "mixer.music.load(\"D:\\Heeriye.mp3\")\n",
    "mixer.music.set_volume(0.5)\n",
    "mixer.music.play()\n",
    "while True:\n",
    "    print(\"Press 'p' to pause\")\n",
    "    print(\"Press 'r' to resume\")\n",
    "    print(\"Press 'v' set volume\")\n",
    "    print(\"Press 'e' to exit\")\n",
    "    ch = input(\"['p','r','v','e']>>>\")\n",
    "    if ch == \"p\":\n",
    "        mixer.music.pause()\n",
    "    elif ch == \"r\":\n",
    "        mixer.music.unpause()\n",
    "    elif ch == \"v\":\n",
    "        v = float(input(\"Enter volume(0 to 1): \"))\n",
    "        mixer.music.set_volume(v)\n",
    "    elif ch == \"e\":\n",
    "        mixer.music.stop()\n",
    "        break"
   ]
  },
  {
   "cell_type": "code",
   "execution_count": 1,
   "id": "830aea68-536f-4b42-80da-fe781af40aa1",
   "metadata": {},
   "outputs": [
    {
     "name": "stdout",
     "output_type": "stream",
     "text": [
      "Requirement already satisfied: demoji in c:\\users\\spoorthi s g\\anaconda3\\lib\\site-packages (1.1.0)\n",
      "Note: you may need to restart the kernel to use updated packages.\n"
     ]
    }
   ],
   "source": [
    "pip install demoji"
   ]
  },
  {
   "cell_type": "code",
   "execution_count": 10,
   "id": "63ac87f8-895f-4284-a606-1775beeb82f6",
   "metadata": {
    "tags": []
   },
   "outputs": [
    {
     "data": {
      "text/plain": [
       "{'🤣': 'rolling on the floor laughing',\n",
       " '😉': 'winking face',\n",
       " '😊': 'smiling face with smiling eyes',\n",
       " '❤️': 'red heart',\n",
       " '😎': 'smiling face with sunglasses',\n",
       " '🥰': 'smiling face with hearts',\n",
       " '💕': 'two hearts',\n",
       " '😒': 'unamused face',\n",
       " '😂': 'face with tears of joy',\n",
       " '🙌': 'raising hands',\n",
       " '😘': 'face blowing a kiss'}"
      ]
     },
     "execution_count": 10,
     "metadata": {},
     "output_type": "execute_result"
    }
   ],
   "source": [
    "import demoji\n",
    "text=\"\"\"meanings 😂😊🤣❤️💕😘🙌😒😎😉🥰\"\"\"\n",
    "demoji.findall(text)"
   ]
  },
  {
   "cell_type": "code",
   "execution_count": 11,
   "id": "6f789a4b-f61a-4d92-aa58-cfc0995e7ec3",
   "metadata": {
    "tags": []
   },
   "outputs": [],
   "source": [
    "import turtle\n",
    " \n",
    "# turtle object\n",
    "pen = turtle.Turtle()\n",
    " \n",
    "# function for creation of eye\n",
    "def eye(col, rad):\n",
    "    pen.down()\n",
    "    pen.fillcolor(col)\n",
    "    pen.begin_fill()\n",
    "    pen.circle(rad)\n",
    "    pen.end_fill()\n",
    "    pen.up()\n",
    " \n",
    " \n",
    "# draw face\n",
    "pen.fillcolor('yellow')\n",
    "pen.begin_fill()\n",
    "pen.circle(100)\n",
    "pen.end_fill()\n",
    "pen.up()\n",
    " \n",
    "# draw eyes\n",
    "pen.goto(-40, 120)\n",
    "eye('white', 15)\n",
    "pen.goto(-37, 125)\n",
    "eye('black', 5)\n",
    "pen.goto(40, 120)\n",
    "eye('white', 15)\n",
    "pen.goto(40, 125)\n",
    "eye('black', 5)\n",
    " \n",
    "# draw nose\n",
    "pen.goto(0, 75)\n",
    "eye('black', 8)\n",
    " \n",
    "# draw mouth\n",
    "pen.goto(-40, 85)\n",
    "pen.down()\n",
    "pen.right(90)\n",
    "pen.circle(40, 180)\n",
    "pen.up()\n",
    " \n",
    "# draw tongue\n",
    "pen.goto(-10, 45)\n",
    "pen.down()\n",
    "pen.right(180)\n",
    "pen.fillcolor('red')\n",
    "pen.begin_fill()\n",
    "pen.circle(10, 180)\n",
    "pen.end_fill()\n",
    "pen.hideturtle()"
   ]
  },
  {
   "cell_type": "code",
   "execution_count": null,
   "id": "a63e0a24-8981-4c1d-9698-8492416c6930",
   "metadata": {
    "tags": []
   },
   "outputs": [],
   "source": []
  },
  {
   "cell_type": "code",
   "execution_count": null,
   "id": "75446083-7ae1-4c33-99f3-842bcda13aa3",
   "metadata": {},
   "outputs": [],
   "source": [
    "\n"
   ]
  },
  {
   "cell_type": "code",
   "execution_count": null,
   "id": "a7952783-075d-4ecf-bf7a-385da50c4058",
   "metadata": {
    "tags": []
   },
   "outputs": [],
   "source": [
    "\n"
   ]
  },
  {
   "cell_type": "code",
   "execution_count": null,
   "id": "c3f9f00c-79b7-40d8-8657-cfa420fc0c6e",
   "metadata": {
    "tags": []
   },
   "outputs": [],
   "source": []
  },
  {
   "cell_type": "code",
   "execution_count": null,
   "id": "ee81162d-f757-4617-81d2-a1a4455a0112",
   "metadata": {},
   "outputs": [],
   "source": []
  }
 ],
 "metadata": {
  "kernelspec": {
   "display_name": "Python 3 (ipykernel)",
   "language": "python",
   "name": "python3"
  },
  "language_info": {
   "codemirror_mode": {
    "name": "ipython",
    "version": 3
   },
   "file_extension": ".py",
   "mimetype": "text/x-python",
   "name": "python",
   "nbconvert_exporter": "python",
   "pygments_lexer": "ipython3",
   "version": "3.11.5"
  }
 },
 "nbformat": 4,
 "nbformat_minor": 5
}
